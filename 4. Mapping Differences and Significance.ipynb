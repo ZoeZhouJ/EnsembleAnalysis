{
 "cells": [
  {
   "cell_type": "markdown",
   "id": "a0f36736-4af3-4d31-9f6a-a3762d0afd18",
   "metadata": {},
   "source": [
    "# Mapping Ensemble Spread and Statistical Significance\n",
    "## (An Example Using Precipitation)\n",
    "### Authors\n",
    "\n",
    "Samantha Stevenson sstevenson@ucsb.edu\n",
    "\n",
    "### Table of Contents\n",
    "\n",
    "[Goals](#purpose)\n",
    "\n",
    "[Import Packages](#path)\n",
    "\n",
    "[Load and Query the CMIP6 AWS Catalog](#load)\n",
    "\n",
    "[Pull Data of Interest: Historical Plus SSP](#data_io)\n",
    "\n",
    "[Do Gridpoint Significance Testing](#sigtest)"
   ]
  },
  {
   "cell_type": "markdown",
   "id": "362328d2-abde-4856-ae91-0c96152cf36c",
   "metadata": {},
   "source": [
    "<a id='purpose'></a> \n",
    "## **Goals**\n",
    "\n",
    "In this tutorial, we will learn some techniques for assessing _statistical significance_ of changes in climate data, and ways to represent significance on map and time series plots!\n",
    "\n",
    "This will allow you to practice skills learned in previous tutorials:\n",
    "- [Mapping Climate Data](https://github.com/climate-datalab/Map-Plots/blob/main/1.%20Mapping%20Climate%20Data.ipynb) (putting spatial data onto a map using Cartopy)\n",
    "- [Plotting Regional Time Series Using Shapefiles](https://github.com/climate-datalab/EnsembleAnalysis/blob/main/2.%20Plotting%20Regional%20Time%20Series%20Using%20Shapefiles.ipynb)  (masking out irregular regions from the climate model grid using shape files)\n",
    "- [Ensemble Spread and Statistical Significance](https://github.com/climate-datalab/EnsembleAnalysis/blob/main/3.%20Ensemble%20Spread%20and%20Statistical%20Significance.ipynb)  (calculating significance of differences)\n",
    "\n",
    "while also learning a new skills that will be presented below:\n",
    "- **Stippling map areas** to show where differences are and are not significant!"
   ]
  },
  {
   "cell_type": "markdown",
   "id": "e05246ad-f775-4587-885a-8ac4ed51d0b6",
   "metadata": {
    "tags": []
   },
   "source": [
    "\n",
    "#### Convert units to make the results more intuitive\n",
    "\n",
    "Before we get into the more sophisticated calculations, let's take a minute to think about the _units_ of the data. You can display them either by printing out the entire `pr` variable and scrolling down to view the units, or by using this syntax:"
   ]
  },
  {
   "cell_type": "code",
   "execution_count": null,
   "id": "d93eb5f0-0da8-4453-8fc2-e6ca01a146c9",
   "metadata": {},
   "outputs": [],
   "source": [
    "# Print out units of precip data\n",
    "access_data.pr.units"
   ]
  },
  {
   "cell_type": "markdown",
   "id": "adbc20db-8c10-40f4-9136-61eecc273614",
   "metadata": {},
   "source": [
    "These are standard units for precipitation, but are the total _mass flux_ of water and not something that people intuitively understand like mm or inches.\n",
    "\n",
    "Instead, let's convert this to a more intuitive unit: mm/day! The conversion factor for this is:\n",
    "\n",
    "mm/day = kg/(m^2 s) x (1 m^3/1000 kg) x (1000 mm/1 m) x (86400 s/day)\n",
    "\n",
    "where the 1000 kg/m^3 is the density of water, and the seconds/day number comes from multiplying 24 hours x 60 minutes/hour x 60 seconds/minute."
   ]
  },
  {
   "cell_type": "code",
   "execution_count": null,
   "id": "986933f7-b5c3-4e31-b79c-92a25a3acfd2",
   "metadata": {},
   "outputs": [],
   "source": [
    "# Convert kg/(m^2 s) to mm/day\n",
    "access_data['pr'] = access_data['pr'] * 86400"
   ]
  }
 ],
 "metadata": {
  "kernelspec": {
   "display_name": "Python 3 (ipykernel)",
   "language": "python",
   "name": "python3"
  },
  "language_info": {
   "codemirror_mode": {
    "name": "ipython",
    "version": 3
   },
   "file_extension": ".py",
   "mimetype": "text/x-python",
   "name": "python",
   "nbconvert_exporter": "python",
   "pygments_lexer": "ipython3",
   "version": "3.8.13"
  }
 },
 "nbformat": 4,
 "nbformat_minor": 5
}
